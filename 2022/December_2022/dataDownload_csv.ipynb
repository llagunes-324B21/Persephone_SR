{
 "cells": [
  {
   "cell_type": "code",
   "execution_count": 37,
   "id": "d98793a2",
   "metadata": {},
   "outputs": [
    {
     "name": "stdout",
     "output_type": "stream",
     "text": [
      "All packages loaded on  12/05/2022 03:56 PM\n"
     ]
    }
   ],
   "source": [
    "# This code is to take the downloaded .dat file from PDBePISA containing ALL hexamers and outputing a csv file \n",
    "# that will hold the stacked trimers only\n",
    "\n",
    "# I downloaded a .dat file from PDBePISA that contains ALL the hexamers available on the database. (~5000 as of Dec 05, 2022) \n",
    "# We need to parse out that data and make sure we are only considering stacked rings\n",
    "\n",
    "# Name: Leo Lagunes \n",
    "# Date: 12/05/2022\n",
    "\n",
    "# Last update: 12/05/22\n",
    "\n",
    "# ===============================================\n",
    "# --- PACKAGES --- \n",
    "# ===============================================\n",
    "import sys\n",
    "import numpy as np\n",
    "import csv # for csv write\n",
    "from datetime import date # to print date\n",
    "from datetime import datetime\n",
    "# ===============================================\n",
    "# --- FUNCTIONS --- \n",
    "# ===============================================\n",
    "\n",
    "\n",
    "\n",
    "# datetime object containing current date and time\n",
    "now = datetime.now()\n",
    "dt_string = now.strftime(\"%m/%d/%Y %I:%M %p\")\n",
    "\n",
    "print('All packages loaded on ', dt_string)"
   ]
  },
  {
   "cell_type": "code",
   "execution_count": 46,
   "id": "5ed7c21d",
   "metadata": {},
   "outputs": [],
   "source": [
    "# This function is to take the entire .dat file and extract only the PDB codes into a seperate csv file. \n",
    "# The csv file will be updated manually by: LL + PM \n",
    "\n",
    "# --- read in data --- \n",
    "Filename = 'dbsres.dat' # raw data \n",
    "listOfPDBs = []\n",
    "with open(Filename, 'r') as File:\n",
    "        InData = False\n",
    "        for Line in File:\n",
    "            #print(Line)\n",
    "            # --- remove the header --- \n",
    "            if Line != \"Hit\": \n",
    "                # --- print the PDB code --- \n",
    "                #print(Line[8:14])\n",
    "                pdb_code_add_pre = Line[8:14]; #print(pdb_code_add_pre)\n",
    "                if pdb_code_add_pre != \"PDB\" and pdb_code_add_pre != \"code\":\n",
    "                    pdb_code_add = pdb_code_add_pre\n",
    "                    # --- add to list of PDBs --- \n",
    "                    listOfPDBs.append(pdb_code_add)\n",
    "\n",
    "                                  \n",
    "# --- write this list of pdb codes to a csv file --- \n",
    "#print(listOfPDBs)                            \n",
    "with open('allPDBs.csv', 'w') as file:\n",
    "    writer = csv.writer(file)\n",
    "    data = listOfPDBs\n",
    "    writer.writerow(data)           \n",
    "\n",
    "\n",
    "# NOTE: The csv file is in horizontal format so I manually transposed in external app (Excel) \n",
    "# then added in the headers: Kd1, Kd2, Initials \n",
    "            \n",
    "            \n",
    "            \n",
    "            \n",
    "            \n",
    "            \n",
    "            \n"
   ]
  },
  {
   "cell_type": "code",
   "execution_count": null,
   "id": "b150a4cc",
   "metadata": {},
   "outputs": [],
   "source": [
    "\n",
    "\n",
    "\n"
   ]
  }
 ],
 "metadata": {
  "kernelspec": {
   "display_name": "Python 3",
   "language": "python",
   "name": "python3"
  },
  "language_info": {
   "codemirror_mode": {
    "name": "ipython",
    "version": 3
   },
   "file_extension": ".py",
   "mimetype": "text/x-python",
   "name": "python",
   "nbconvert_exporter": "python",
   "pygments_lexer": "ipython3",
   "version": "3.8.8"
  }
 },
 "nbformat": 4,
 "nbformat_minor": 5
}
