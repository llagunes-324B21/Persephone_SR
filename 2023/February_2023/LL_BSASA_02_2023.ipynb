{
 "cells": [
  {
   "cell_type": "code",
   "execution_count": null,
   "metadata": {},
   "outputs": [],
   "source": [
    "# In this script I want to see the patterns of Kd1 vs Kd2 in real PDB structures. \n",
    "# I had previously looked at all the PDB structures and recorded BSASA for those which had a stacked trimer structure\n",
    "# Name: Leo Lagunes and Paige M.\n",
    "# Date: 02/07/23 \n",
    "\n",
    "# Last update: 02/07/23\n",
    "\n",
    "# IMPORTANT NOTE: It is possible that since the structures were identified as stacked trimers by hand, there could be some \n",
    "# errors - subjective method. "
   ]
  },
  {
   "cell_type": "code",
   "execution_count": 18,
   "metadata": {},
   "outputs": [
    {
     "name": "stdout",
     "output_type": "stream",
     "text": [
      "All packages loaded!\n"
     ]
    }
   ],
   "source": [
    "# ---------------------------------------------------\n",
    "# --- packages to use ---\n",
    "# ---------------------------------------------------\n",
    "\n",
    "# First we need to import all of the packages we will be using!\\n\",\n",
    "import numpy as np\n",
    "from scipy.integrate import odeint\n",
    "import matplotlib.pyplot as plt\n",
    "import math\n",
    "from scipy.integrate import solve_ivp\n",
    "import seaborn as sns # for the heatmaps\n",
    "from datetime import date # to print date\n",
    "from datetime import datetime\n",
    "from matplotlib.ticker import LogLocator\n",
    "import matplotlib\n",
    "import pandas as pd\n",
    "import csv\n",
    "\n",
    "print('All packages loaded!')"
   ]
  },
  {
   "cell_type": "code",
   "execution_count": 2,
   "metadata": {},
   "outputs": [
    {
     "name": "stdout",
     "output_type": "stream",
     "text": [
      "Functions ready... 02/17/2023 11:43:25\n"
     ]
    }
   ],
   "source": [
    "# ---------------------------------------------------\n",
    "# --- LIST OF FUNCTIONS ---\n",
    "# ---------------------------------------------------\n",
    "\n",
    "# All functions necessary are in this cell\n",
    "\n",
    "\n",
    "\n",
    "# --- Today --- \n",
    "now = datetime.now(); dt_string = now.strftime(\"%m/%d/%Y %H:%M:%S\")\n",
    "today_pre = date.today()\n",
    "today = today_pre.strftime(\"%m_%d_%y\")\n",
    "print(\"Functions ready...\", dt_string)\n"
   ]
  },
  {
   "cell_type": "code",
   "execution_count": 65,
   "metadata": {},
   "outputs": [
    {
     "name": "stdout",
     "output_type": "stream",
     "text": [
      "Found  1580  stacked trimers in total (~44%)\n"
     ]
    },
    {
     "data": {
      "image/png": "[encoded data removed]",
      "text/plain": [
       "<Figure size 432x288 with 1 Axes>"
      ]
     },
     "metadata": {
      "needs_background": "light"
     },
     "output_type": "display_data"
    }
   ],
   "source": [
    "# ---------------------------------------------------------\n",
    "# --- EXTRACT STACKED TRIMERS FROM FILLED OUT DATASET ---\n",
    "# ---------------------------------------------------------\n",
    "\n",
    "# --- Load dataset (.csv) ---\n",
    "filename = 'BSASA_workthrough_data.csv'\n",
    "\n",
    "stacked_trimers_all = [] # list containing all the PDB codes, Kd1 and Kd2 for the stacked rings \n",
    "with open(filename, 'r') as csvfile:\n",
    "    datareader = csv.reader(csvfile)\n",
    "    # --- extract only the stacked trimers --- \n",
    "    for row in datareader: # for each line, check if KD1 and KD2 have numeric entries (those are the stacked rings)\n",
    "        if row[1] != 'na' and row[1] != 'na ': # 'na' was the notation I used for a not-applicable structure that is not a stacked ring\n",
    "            # save the PDB code, Kd1 and Kd2 values\n",
    "            if row[0] != 'PDB': # remove header\n",
    "                #print(row)\n",
    "                addItem = [row[0],float(row[1]),float(row[2])]\n",
    "                stacked_trimers_all.append(addItem)\n",
    "            #print(addItem)\n",
    "            \n",
    "# How many stacked trimers did I get?\n",
    "print(\"Found \", len(stacked_trimers_all), ' stacked trimers in total (~44%)')\n",
    "# --- prep list for plotting --- \n",
    "KD1s = []; KD2s = []; # lists to hold KD1 and KD2\n",
    "for listI in stacked_trimers_all:\n",
    "    KD1_item = listI[1]; KD2_item = listI[2];\n",
    "    KD1s.append(KD1_item); KD2s.append(KD2_item);\n",
    "       \n",
    "# --- plot KD1 vs KD2 --- \n",
    "fig = plt.figure()\n",
    "ax = fig.add_subplot(111)\n",
    "\n",
    "plt.plot(KD1s,KD2s,'ro')\n",
    "plt.xscale('log')\n",
    "plt.yscale('log')\n",
    "\n",
    "plt.title(\"BSASA in PDB structures\"); plt.xlabel('Kd1 BSASA'); plt.ylabel('Kd2 BSASA')\n",
    "\n",
    "# --- save final plot --- \n",
    "ax.set_aspect(1./ax.get_data_ratio())\n",
    "plt.savefig('BSASA'+today+'.eps')\n"
   ]
  },
  {
   "cell_type": "code",
   "execution_count": null,
   "metadata": {},
   "outputs": [],
   "source": []
  }
 ],
 "metadata": {
  "kernelspec": {
   "display_name": "Python 3 (ipykernel)",
   "language": "python",
   "name": "python3"
  },
  "language_info": {
   "codemirror_mode": {
    "name": "ipython",
    "version": 3
   },
   "file_extension": ".py",
   "mimetype": "text/x-python",
   "name": "python",
   "nbconvert_exporter": "python",
   "pygments_lexer": "ipython3",
   "version": "3.9.7"
  }
 },
 "nbformat": 4,
 "nbformat_minor": 4
}
