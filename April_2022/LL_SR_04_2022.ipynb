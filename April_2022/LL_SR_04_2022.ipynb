{
 "cells": [
  {
   "cell_type": "code",
   "execution_count": null,
   "metadata": {},
   "outputs": [],
   "source": [
    "# In this script we want to solve the system of odes for assembling two 3-membered rings  \n",
    "# with synthesis and degradation NOT included \n",
    "# Name: Leo Lagunes and Paige M.\n",
    "# Date: 07/14/21 \n",
    "\n",
    "# Last update: 04/17/22\n",
    "\n",
    "# IMPORTANT NOTE: The equations were written and developed by Drs. Eric Deeds and Koan Briggs, this code was developed by LL + PM\n",
    "\n",
    "# Running in python because Julia hasn't really been working just yet\n"
   ]
  },
  {
   "cell_type": "code",
   "execution_count": 1,
   "metadata": {},
   "outputs": [
    {
     "name": "stdout",
     "output_type": "stream",
     "text": [
      "All packages loaded!\n"
     ]
    }
   ],
   "source": [
    "# ---------------------------------------------------\n",
    "# --- packages to use ---\n",
    "# ---------------------------------------------------\n",
    "\n",
    "# First we need to import all of the packages we will be using!\\n\",\n",
    "import numpy as np\n",
    "from scipy.integrate import odeint\n",
    "import matplotlib.pyplot as plt\n",
    "import math\n",
    "from scipy.integrate import solve_ivp\n",
    "import seaborn as sns # for the heatmaps\n",
    "from datetime import date # to print date\n",
    "from datetime import datetime\n",
    "from matplotlib.ticker import LogLocator\n",
    "import matplotlib\n",
    "\n",
    "print('All packages loaded!')"
   ]
  },
  {
   "cell_type": "code",
   "execution_count": 2,
   "metadata": {},
   "outputs": [
    {
     "name": "stdout",
     "output_type": "stream",
     "text": [
      "Functions ready... 04/18/2022 16:28:16\n"
     ]
    }
   ],
   "source": [
    "# ---------------------------------------------------\n",
    "# --- LIST OF FUNCTIONS ---\n",
    "# ---------------------------------------------------\n",
    "\n",
    "# All functions necessary are in this cell\n",
    "\n",
    "# ---------------------------------------------------    \n",
    "# --- Keff function ---\n",
    "# ---------------------------------------------------\n",
    "def keff(i,j):\n",
    "    # calculate the k_effective value given the i,j indices and the kd's (binding affinities)\n",
    "    ℯ = math.e\n",
    "    #kd1 = kds[0]; kd2 = kds[1]\n",
    "    keff= kOn*(kd1**i)*(kd2**j)*ℯ**(-(i+j-1)*9/0.6)\n",
    "    \n",
    "    return keff\n",
    "\n",
    "# ---------------------------------------------------\n",
    "# --- EJD Eqns for stacked trimer ---   \n",
    "# ---------------------------------------------------\n",
    "def stackedTrimer(states, t):\n",
    "    #x0Val = paramvaluesList[0] # initial condition for x1 \n",
    "    x = states\n",
    "    # list of ode's\n",
    "    dx_0 = - 2*kOn*0.5*x[0]*x[0] + 1*keff(1,0)*x[1] - 2*kOn*0.5*x[0]*x[0] + 1*keff(1,0)*x[1] - 1*kOn*0.5*x[0]*x[0] + 1*keff(0,1)*x[2] - 1*kOn*0.5*x[0]*x[0] + 1*keff(0,1)*x[2] - 1*kOn*1*x[0]*x[1] + 3*keff(2,0)*x[3] - 1*kOn*1*x[0]*x[1] + 1*keff(0,1)*x[4] - 1*kOn*1*x[0]*x[1] + 1*keff(0,1)*x[5] - 2*kOn*1*x[0]*x[2] + 1*keff(1,0)*x[5] - 2*kOn*1*x[0]*x[2] + 1*keff(1,0)*x[4] - 3*kOn*1*x[0]*x[3] + 1*keff(0,1)*x[6] - 1*kOn*1*x[0]*x[4] + 1*keff(2,0)*x[6] - 1*kOn*1*x[0]*x[4] + 2*keff(1,0)*x[7] - 1*kOn*1*x[0]*x[4] + 2*keff(1,1)*x[8] - 1*kOn*1*x[0]*x[5] + 1*keff(2,0)*x[6] - 1*kOn*1*x[0]*x[5] + 2*keff(1,1)*x[8] - 1*kOn*1*x[0]*x[5] + 2*keff(1,0)*x[9] - 2*kOn*1*x[0]*x[6] + 2*keff(1,1)*x[10] - 2*kOn*1*x[0]*x[7] + 1*keff(2,1)*x[10] - 2*kOn*1*x[0]*x[8] + 1*keff(2,0)*x[10] - 2*kOn*1*x[0]*x[9] + 1*keff(2,1)*x[10] - 1*kOn*1*x[0]*x[10] + 6*keff(2,1)*x[11]  \n",
    "    dx_1 = + 2*kOn*0.5*x[0]*x[0] - 1*keff(1,0)*x[1] - 1*kOn*1*x[0]*x[1] + 3*keff(2,0)*x[3] - 1*kOn*1*x[0]*x[1] + 1*keff(0,1)*x[4] - 1*kOn*1*x[0]*x[1] + 1*keff(0,1)*x[5] - 1*kOn*0.5*x[1]*x[1] + 1*keff(0,2)*x[8] - 1*kOn*0.5*x[1]*x[1] + 1*keff(0,2)*x[8] - 1*kOn*0.5*x[1]*x[1] + 1*keff(0,1)*x[9] - 1*kOn*0.5*x[1]*x[1] + 1*keff(0,1)*x[9] - 1*kOn*0.5*x[1]*x[1] + 1*keff(0,1)*x[7] - 1*kOn*0.5*x[1]*x[1] + 1*keff(0,1)*x[7] - 2*kOn*1*x[1]*x[2] + 1*keff(2,0)*x[6] - 3*kOn*1*x[1]*x[3] + 1*keff(0,2)*x[10] - 1*kOn*1*x[1]*x[4] + 1*keff(2,1)*x[10] - 1*kOn*1*x[1]*x[5] + 1*keff(2,1)*x[10] - 1*kOn*1*x[1]*x[6] + 6*keff(2,2)*x[11]  \n",
    "    dx_2 = + 1*kOn*0.5*x[0]*x[0] - 1*keff(0,1)*x[2] - 2*kOn*1*x[0]*x[2] + 1*keff(1,0)*x[5] - 2*kOn*1*x[0]*x[2] + 1*keff(1,0)*x[4] - 2*kOn*1*x[1]*x[2] + 1*keff(2,0)*x[6] - 4*kOn*0.5*x[2]*x[2] + 1*keff(2,0)*x[8] - 4*kOn*0.5*x[2]*x[2] + 1*keff(2,0)*x[8] - 2*kOn*1*x[2]*x[4] + 1*keff(3,0)*x[10] - 2*kOn*1*x[2]*x[5] + 1*keff(3,0)*x[10] - 2*kOn*1*x[2]*x[8] + 3*keff(4,0)*x[11]  \n",
    "    dx_3 = + 1*kOn*1*x[0]*x[1] - 3*keff(2,0)*x[3] - 3*kOn*1*x[0]*x[3] + 1*keff(0,1)*x[6] - 3*kOn*1*x[1]*x[3] + 1*keff(0,2)*x[10] - 3*kOn*0.5*x[3]*x[3] + 1*keff(0,3)*x[11] - 3*kOn*0.5*x[3]*x[3] + 1*keff(0,3)*x[11]  \n",
    "    dx_4 = + 1*kOn*1*x[0]*x[1] - 1*keff(0,1)*x[4] + 2*kOn*1*x[0]*x[2] - 1*keff(1,0)*x[4] - 1*kOn*1*x[0]*x[4] + 1*keff(2,0)*x[6] - 1*kOn*1*x[0]*x[4] + 2*keff(1,0)*x[7] - 1*kOn*1*x[0]*x[4] + 2*keff(1,1)*x[8] - 1*kOn*1*x[1]*x[4] + 1*keff(2,1)*x[10] - 2*kOn*1*x[2]*x[4] + 1*keff(3,0)*x[10] - 1*kOn*0.5*x[4]*x[4] + 3*keff(4,1)*x[11] - 1*kOn*0.5*x[4]*x[4] + 3*keff(4,1)*x[11]  \n",
    "    dx_5 = + 1*kOn*1*x[0]*x[1] - 1*keff(0,1)*x[5] + 2*kOn*1*x[0]*x[2] - 1*keff(1,0)*x[5] - 1*kOn*1*x[0]*x[5] + 1*keff(2,0)*x[6] - 1*kOn*1*x[0]*x[5] + 2*keff(1,1)*x[8] - 1*kOn*1*x[0]*x[5] + 2*keff(1,0)*x[9] - 1*kOn*1*x[1]*x[5] + 1*keff(2,1)*x[10] - 2*kOn*1*x[2]*x[5] + 1*keff(3,0)*x[10] - 1*kOn*0.5*x[5]*x[5] + 3*keff(4,1)*x[11] - 1*kOn*0.5*x[5]*x[5] + 3*keff(4,1)*x[11]  \n",
    "    dx_6 = + 3*kOn*1*x[0]*x[3] - 1*keff(0,1)*x[6] + 1*kOn*1*x[0]*x[4] - 1*keff(2,0)*x[6] + 1*kOn*1*x[0]*x[5] - 1*keff(2,0)*x[6] - 2*kOn*1*x[0]*x[6] + 2*keff(1,1)*x[10] + 2*kOn*1*x[1]*x[2] - 1*keff(2,0)*x[6] - 1*kOn*1*x[1]*x[6] + 6*keff(2,2)*x[11]  \n",
    "    dx_7 = + 1*kOn*1*x[0]*x[4] - 2*keff(1,0)*x[7] - 2*kOn*1*x[0]*x[7] + 1*keff(2,1)*x[10] + 1*kOn*0.5*x[1]*x[1] - 1*keff(0,1)*x[7]  \n",
    "    dx_8 = + 1*kOn*1*x[0]*x[4] - 2*keff(1,1)*x[8] + 1*kOn*1*x[0]*x[5] - 2*keff(1,1)*x[8] - 2*kOn*1*x[0]*x[8] + 1*keff(2,0)*x[10] + 1*kOn*0.5*x[1]*x[1] - 1*keff(0,2)*x[8] + 4*kOn*0.5*x[2]*x[2] - 1*keff(2,0)*x[8] - 2*kOn*1*x[2]*x[8] + 3*keff(4,0)*x[11]  \n",
    "    dx_9 = + 1*kOn*1*x[0]*x[5] - 2*keff(1,0)*x[9] - 2*kOn*1*x[0]*x[9] + 1*keff(2,1)*x[10] + 1*kOn*0.5*x[1]*x[1] - 1*keff(0,1)*x[9]  \n",
    "    dx_10 = + 2*kOn*1*x[0]*x[6] - 2*keff(1,1)*x[10] + 2*kOn*1*x[0]*x[7] - 1*keff(2,1)*x[10] + 2*kOn*1*x[0]*x[8] - 1*keff(2,0)*x[10] + 2*kOn*1*x[0]*x[9] - 1*keff(2,1)*x[10] - 1*kOn*1*x[0]*x[10] + 6*keff(2,1)*x[11] + 3*kOn*1*x[1]*x[3] - 1*keff(0,2)*x[10] + 1*kOn*1*x[1]*x[4] - 1*keff(2,1)*x[10] + 1*kOn*1*x[1]*x[5] - 1*keff(2,1)*x[10] + 2*kOn*1*x[2]*x[4] - 1*keff(3,0)*x[10] + 2*kOn*1*x[2]*x[5] - 1*keff(3,0)*x[10]  \n",
    "    dx_11 = + 1*kOn*1*x[0]*x[10] - 6*keff(2,1)*x[11] + 1*kOn*1*x[1]*x[6] - 6*keff(2,2)*x[11] + 2*kOn*1*x[2]*x[8] - 3*keff(4,0)*x[11] + 3*kOn*0.5*x[3]*x[3] - 1*keff(0,3)*x[11] + 1*kOn*0.5*x[4]*x[4] - 3*keff(4,1)*x[11] + 1*kOn*0.5*x[5]*x[5] - 3*keff(4,1)*x[11]  \n",
    "   \n",
    "    states_prime = [dx_0, dx_1,dx_2,dx_3,dx_4, dx_5, dx_6,dx_7,dx_8,dx_9,dx_10,dx_11]\n",
    "    \n",
    "    return states_prime \n",
    "\n",
    "# ---------------------------------------------------\n",
    "# --- Assembly Yield --- \n",
    "# ---------------------------------------------------\n",
    "def calcAY24hrs(IC_1,XnTimePtsVec):\n",
    "    # this function calculates the assembly yield for a time course of one species\n",
    "    n=6; Xn = XnTimePtsVec;\n",
    "    # --- calculate XT --- \n",
    "    # define XT as the IC of monomers (predefined - compare them-maybe Xn)\n",
    "    XT = IC_1; # print(XT)\n",
    "    # --- calculate Yn ---\n",
    "    Yn = n*Xn/XT;\n",
    "    \n",
    "    return Yn\n",
    "\n",
    "# ---------------------------------------------------\n",
    "# --- Assembly Yield vs IC --- \n",
    "# ---------------------------------------------------\n",
    "def calcAYvsIC(minDeg_IC, maxDeg_IC, nICpts):\n",
    "    # this function calculates the AY for varying values of IC\n",
    "    mags = np.linspace(minDeg_IC, maxDeg_IC,nICpts)\n",
    "    allICs = 10**mags\n",
    "    # initialize lists to stor\n",
    "    AY_list = []\n",
    "    # loop to solve AY for each IC \n",
    "    for icVal in allICs:\n",
    "        # for each IC calc the sols and AY \n",
    "        IC_1=icVal\n",
    "        states_0 = [IC_1,0.0, 0.0,0.0, 0.0,0.0, 0.0,0.0, 0.0,0.0, 0.0,0.0]\n",
    "        # Now, integrate the ODEs and put the results in \\\"solution\\\"\n",
    "        # If the concentration is high, need different tols!\n",
    "        if icVal > 10**-5:\n",
    "            solution_1 = odeint(stackedTrimer,states_0,t,rtol = 1e-9, atol = 1e-9)      \n",
    "        else:\n",
    "            solution_1 = odeint(stackedTrimer,states_0,t,rtol = 1e-12, atol = 1e-12)\n",
    "            \n",
    "        if kd1 == 10**-8:\n",
    "            solution_1 = odeint(stackedTrimer,states_0,t,rtol = 1e-12, atol = 1e-12) \n",
    "        \n",
    "        tVec = t; xStkTrm_tps_1 = solution_1[:,-1]\n",
    "        # calculate AY\n",
    "        Yn_1 = calcAY24hrs(IC_1,xStkTrm_tps_1)\n",
    "        # store the last AY value - since tc stops at 24hrs that's the AY at 24hrs\n",
    "        AY_valStr = Yn_1[-1];\n",
    "        AY_list.append(AY_valStr)\n",
    "        \n",
    "    return allICs, AY_list\n",
    "\n",
    "# ---------------------------------------------------\n",
    "# --- Heatmap number formatting --- \n",
    "# ---------------------------------------------------\n",
    "def precision_round(number, digits=3):\n",
    "    power = \"{:e}\".format(number).split('e')[1]\n",
    "    return round(number, -(int(power) - digits))\n",
    "\n",
    "\n",
    "\n",
    "# --- Today --- \n",
    "now = datetime.now(); dt_string = now.strftime(\"%m/%d/%Y %H:%M:%S\")\n",
    "today_pre = date.today()\n",
    "today = today_pre.strftime(\"%m_%d_%y\")\n",
    "print(\"Functions ready...\", dt_string)\n"
   ]
  },
  {
   "cell_type": "code",
   "execution_count": 30,
   "metadata": {},
   "outputs": [
    {
     "data": {
      "image/png": "[encoded data removed]",
      "text/plain": [
       "<Figure size 432x288 with 1 Axes>"
      ]
     },
     "metadata": {
      "needs_background": "light"
     },
     "output_type": "display_data"
    }
   ],
   "source": [
    "# ---------------------------------------------------\n",
    "# --- Assembly Yield ---\n",
    "# ---------------------------------------------------\n",
    "\n",
    "# --- PARAMETERS ---\n",
    "# List of fixed parameters\n",
    "kOn = 10**6\n",
    "δ = 0 # degradation rate parameter\n",
    "Q = 0 # synthesis rate parameter\n",
    "\n",
    "\n",
    "# List of parameters that will be explored \n",
    "IC_1 = 1.35*10**-8;\n",
    "kd1 = 10**-9 # binding affinity WITHIN rings (intra)\n",
    "kd2 = 10**-9 # binding affinity BETWEEN rings (inter)\n",
    "\n",
    "states_0 = [IC_1,0.0, 0.0,0.0, 0.0,0.0, 0.0,0.0, 0.0,0.0, 0.0,0.0]\n",
    "\n",
    "# To intgrate ODEs, we need a vector for time\n",
    "tEnd = 86400 # 24hrs\n",
    "t = np.linspace(0,tEnd,2000)\n",
    "# Now, integrate the ODEs and put the results in \\\"solution\\\"\n",
    "# --- kd1 = kd2 = 10^-9 ---\n",
    "kd1_1 = kd1; kd2_1= kd2;\n",
    "solution_1 = odeint(stackedTrimer,states_0,t,rtol = 1e-12, atol = 1e-12)\n",
    "# --- kd1 = 10^-9 & kd2 = 10^-7 ---\n",
    "kd1 = 10**-9 # binding affinity WITHIN rings (intra)\n",
    "kd2 = 10**-7 # binding affinity BETWEEN rings (inter)\n",
    "kd1_2 = kd1; kd2_2= kd2;\n",
    "solution_2 = odeint(stackedTrimer,states_0,t,rtol = 1e-12, atol = 1e-12)\n",
    "# --- kd1 = 10^-7 & kd2 = 10^-9 ---\n",
    "kd1 = 10**-7 # binding affinity WITHIN rings (intra)\n",
    "kd2 = 10**-9 # binding affinity BETWEEN rings (inter)\n",
    "kd1_3 = kd1; kd2_3= kd2;\n",
    "solution_3 = odeint(stackedTrimer,states_0,t,rtol = 1e-12, atol = 1e-12)\n",
    "\n",
    "# Calculate the assembly yield for each time course of the 12th species\n",
    "tVec = t;\n",
    "xStkTrm_tps_1 = solution_1[:,-1] # the fully stacked trimer\n",
    "xStkTrm_tps_2 = solution_2[:,-1]\n",
    "xStkTrm_tps_3 = solution_3[:,-1]\n",
    "\n",
    "Yn_1 = calcAY24hrs(IC_1,xStkTrm_tps_1)\n",
    "Yn_2 = calcAY24hrs(IC_1,xStkTrm_tps_2)\n",
    "Yn_3 = calcAY24hrs(IC_1,xStkTrm_tps_3)\n",
    "\n",
    "# --- plot AY values --- \n",
    "ICFormat = format(IC_1,'.2E');\n",
    "kd1_format_1 = format(kd1_1,'.2E');kd2_format_1 = format(kd2_1,'.2E')\n",
    "kd1_format_2 = format(kd1_2,'.2E');kd2_format_2 = format(kd2_2,'.2E')\n",
    "kd1_format_3 = format(kd1_3,'.2E');kd2_format_3 = format(kd2_3,'.2E')\n",
    "\n",
    "plt.semilogx(tVec,Yn_1,'-',linewidth=2)\n",
    "plt.semilogx(tVec,Yn_2,'-',linewidth=2)\n",
    "plt.semilogx(tVec,Yn_3,'-',linewidth=2)\n",
    "x1,x2,y1,y2 = plt.axis(); plt.axis((x1,x2,0,1))\n",
    "\n",
    "plt.title('IC= '+ ICFormat)\n",
    "plt.xlabel('Time (sec)')\n",
    "plt.ylabel('Assembly Yield of Stacked Trimer')\n",
    "plt.legend([\"Kd1=\"+kd1_format_1+\", kd2=\" +kd2_format_1, \"Kd1=\"+kd1_format_2+\", kd2=\" +kd2_format_2, \"Kd1=\"+kd1_format_3+\", kd2=\" +kd2_format_3],loc='best')\n",
    "#plt.show()  \n",
    "\n",
    "#plt.tight_layout()\n",
    "plt.savefig('LL_SR_AY_poster_0329.png')"
   ]
  },
  {
   "cell_type": "code",
   "execution_count": 3,
   "metadata": {},
   "outputs": [
    {
     "name": "stdout",
     "output_type": "stream",
     "text": [
      "Working on AY vs IC...\n"
     ]
    },
    {
     "name": "stderr",
     "output_type": "stream",
     "text": [
      "/opt/anaconda3/lib/python3.9/site-packages/scipy/integrate/odepack.py:247: ODEintWarning: Excess work done on this call (perhaps wrong Dfun type). Run with full_output = 1 to get quantitative information.\n",
      "  warnings.warn(warning_msg, ODEintWarning)\n"
     ]
    },
    {
     "name": "stdout",
     "output_type": "stream",
     "text": [
      "Done with AY vs IC pts\n"
     ]
    }
   ],
   "source": [
    "# ---------------------------------------------------\n",
    "# --- Plot AY vs IC ---\n",
    "# ---------------------------------------------------\n",
    "\n",
    "# calculate the AY for increasing IC with various Kd2 values\n",
    "# Koan's values\n",
    "\n",
    "# Fix the numerical instability towards the higher concentrations there! \n",
    "# 04/13/22\n",
    "\n",
    "# --- PARAMETERS ---\n",
    "# List of fixed parameters\n",
    "kOn = 10**6\n",
    "δ = 0 # degradation rate parameter\n",
    "Q = 0 # synthesis rate parameter\n",
    "# other parameters \n",
    "tEnd = 86400 # 24hrs\n",
    "t = np.linspace(0,tEnd,2000)\n",
    "\n",
    "# make vector of all IC to consider\n",
    "nICpts=100;\n",
    "minDeg_IC = -12; maxDeg_IC = -3;\n",
    "\n",
    "print(\"Working on AY vs IC...\")\n",
    "# RED\n",
    "# --- kd1 = 10^-3 & kd2 = 10^-12 ---\n",
    "# Binding strengths\n",
    "kd1 = 10**-3 \n",
    "kd2 = 10**-12 \n",
    "kd1_1 = kd1; kd2_1= kd2;\n",
    "allAY_ICs = calcAYvsIC(minDeg_IC, maxDeg_IC, nICpts)\n",
    "allICs_1 = allAY_ICs[0]; AYvsIC_1=allAY_ICs[1]\n",
    "# GREEN\n",
    "# --- kd1 = 10^-12 & kd2 = 10^-12 ---\n",
    "kd1 = 10**-12 ; kd2 = 10**-12 \n",
    "kd1_2 = kd1; kd2_2= kd2;\n",
    "allAY_ICs = calcAYvsIC(minDeg_IC, maxDeg_IC, nICpts)\n",
    "allICs_2 = allAY_ICs[0]; AYvsIC_2=allAY_ICs[1]\n",
    "# ORANGE\n",
    "# --- kd1 = 10^-8 & kd2 = 10^-8 ---\n",
    "kd1 = 10**-8; kd2 = 10**-8\n",
    "kd1_3 = kd1; kd2_3= kd2;\n",
    "allAY_ICs = calcAYvsIC(minDeg_IC, maxDeg_IC, nICpts)\n",
    "allICs_3 = allAY_ICs[0]; AYvsIC_3=allAY_ICs[1]\n",
    "# BLUE\n",
    "# --- kd1 = 10^-3 & kd2 = 10^-3 ---\n",
    "kd1 = 10**-3; kd2 = 10**-3\n",
    "kd1_4 = kd1; kd2_4= kd2;\n",
    "allAY_ICs = calcAYvsIC(minDeg_IC, maxDeg_IC, nICpts)\n",
    "allICs_4 = allAY_ICs[0]; AYvsIC_4=allAY_ICs[1]\n",
    "# PURPLE\n",
    "# --- kd1 = 10^-12 & kd2 = 10^-3 ---\n",
    "kd1 = 10**-12; kd2 = 10**-3\n",
    "kd1_5 = kd1; kd2_5= kd2;\n",
    "allAY_ICs = calcAYvsIC(minDeg_IC, maxDeg_IC, nICpts)\n",
    "allICs_5 = allAY_ICs[0]; AYvsIC_5=allAY_ICs[1]\n",
    "\n",
    "print(\"Done with AY vs IC pts\")"
   ]
  },
  {
   "cell_type": "code",
   "execution_count": 4,
   "metadata": {},
   "outputs": [
    {
     "name": "stderr",
     "output_type": "stream",
     "text": [
      "The PostScript backend does not support transparency; partially transparent artists will be rendered opaque.\n",
      "The PostScript backend does not support transparency; partially transparent artists will be rendered opaque.\n"
     ]
    },
    {
     "data": {
      "image/png": "[encoded data removed]",
      "text/plain": [
       "<Figure size 432x288 with 1 Axes>"
      ]
     },
     "metadata": {
      "needs_background": "light"
     },
     "output_type": "display_data"
    }
   ],
   "source": [
    "# --- now plot AY vs IC ---\n",
    "kd1_format_1 = format(kd1_1,'.2E');kd2_format_1 = format(kd2_1,'.2E')\n",
    "kd1_format_2 = format(kd1_2,'.2E');kd2_format_2 = format(kd2_2,'.2E')\n",
    "kd1_format_3 = format(kd1_3,'.2E');kd2_format_3 = format(kd2_3,'.2E')\n",
    "kd1_format_4 = format(kd1_4,'.2E');kd2_format_4 = format(kd2_4,'.2E')\n",
    "kd1_format_5 = format(kd1_5,'.2E');kd2_format_5 = format(kd2_5,'.2E')\n",
    "\n",
    "fig2 = plt.semilogx(allICs_1,AYvsIC_1,'r-',linewidth=2)\n",
    "fig2 = plt.semilogx(allICs_2,AYvsIC_2,'g-',linewidth=2)\n",
    "fig2 = plt.semilogx(allICs_3,AYvsIC_3,'-',linewidth=2, color='orange')\n",
    "fig2 = plt.semilogx(allICs_4,AYvsIC_4,'b-',linewidth=2)\n",
    "fig2 = plt.semilogx(allICs_5,AYvsIC_5,'-',linewidth=2, color='purple')\n",
    "\n",
    "#plt.axis((x1,x2,0,1))\n",
    "plt.title(\"Kd1=\"+kd1_format_1)\n",
    "plt.xlabel('Initial Condition (M)')\n",
    "plt.ylabel('Assembly Yield of Stacked Trimer')\n",
    "plt.legend([\"Kd1=\"+kd1_format_1+\", kd2=\" +kd2_format_1, \"Kd1=\"+kd1_format_2+\", kd2=\" +kd2_format_2, \"Kd1=\"+kd1_format_3+\", kd2=\" +kd2_format_3,  \"Kd1=\"+kd1_format_4+\", kd2=\" +kd2_format_4, \"Kd1=\"+kd1_format_5+\", kd2=\" +kd2_format_5],loc='center left', bbox_to_anchor=(1, 0.5))\n",
    "#plt.show()  \n",
    "#plt.tight_layout()\n",
    "#plt.savefig('LL_SR_AYvsIC_KoanVals_100pts_0404.png')\n",
    "plt.savefig('LL_SR_AYvsIC_n100_'+today+'.eps')"
   ]
  },
  {
   "cell_type": "code",
   "execution_count": 5,
   "metadata": {},
   "outputs": [
    {
     "name": "stdout",
     "output_type": "stream",
     "text": [
      "Running for fixed Kd1...\n"
     ]
    },
    {
     "name": "stderr",
     "output_type": "stream",
     "text": [
      "/opt/anaconda3/lib/python3.9/site-packages/scipy/integrate/odepack.py:247: ODEintWarning: Excess work done on this call (perhaps wrong Dfun type). Run with full_output = 1 to get quantitative information.\n",
      "  warnings.warn(warning_msg, ODEintWarning)\n"
     ]
    },
    {
     "name": "stdout",
     "output_type": "stream",
     "text": [
      "Done will all pts!\n"
     ]
    }
   ],
   "source": [
    "# ---------------------------------------------------\n",
    "# --- Plot AY vs IC HEATMAP ---\n",
    "# ---------------------------------------------------\n",
    "\n",
    "# calculate the AY for increasing IC with various Kd2 values on a heatmap \n",
    "\n",
    "# --- PARAMETERS ---\n",
    "# List of fixed parameters\n",
    "kOn = 10**6\n",
    "δ = 0 # degradation rate parameter\n",
    "Q = 0 # synthesis rate parameter\n",
    "kd1 = 10**-9\n",
    "# other parameters \n",
    "tEnd = 86400 # 24hrs\n",
    "t = np.linspace(0,tEnd,2000)\n",
    "\n",
    "print(\"Running for fixed Kd1...\")\n",
    "# initializations \n",
    "nICpts=50;nKdspts=50;\n",
    "minDeg_IC=-9;maxDeg_IC=-3; # IC pts\n",
    "minDeg_kd=-9;maxDeg_kd=-3; # Kd pts\n",
    "\n",
    "# start of function here!\n",
    "mags_IC = np.linspace(minDeg_IC, maxDeg_IC,nICpts)\n",
    "allICs = 10**mags_IC\n",
    "mags_IC = np.linspace(minDeg_kd, maxDeg_kd,nKdspts)\n",
    "allKd2 = 10**mags_IC\n",
    "\n",
    "IC_kd2_AY_mat=np.zeros((nICpts,nKdspts))\n",
    "# loop to solve AY for each IC \n",
    "for indIC in range(0,nICpts): # for each IC \n",
    "    icVal = allICs[indIC]\n",
    "    for kd2ind in range(0,nKdspts): # for each value of kd2\n",
    "        kd2_val=allKd2[kd2ind]\n",
    "        IC_1=icVal; kd2 = kd2_val\n",
    "        states_0 = [IC_1,0.0, 0.0,0.0, 0.0,0.0, 0.0,0.0, 0.0,0.0, 0.0,0.0]\n",
    "        # Now, integrate the ODEs and put the results in \\\"solution\\\"\n",
    "        solution_1 = odeint(stackedTrimer,states_0,t,rtol = 1e-12, atol = 1e-12)\n",
    "        tVec = t; xStkTrm_tps_1 = solution_1[:,-1]\n",
    "        # calculate AY\n",
    "        Yn_1 = calcAY24hrs(IC_1,xStkTrm_tps_1)\n",
    "        # store the last AY value - since tc stops at 24hrs that's the AY at 24hrs\n",
    "        AY_valStr = Yn_1[-1]; \n",
    "        #print(\"IC= \" + str(icVal) + \" , Kd2= \" + str(kd2_val) + \" , AY= \" +  str(AY_valStr))\n",
    "        IC_kd2_AY_mat[kd2ind][indIC] = AY_valStr # IC on x-axis, Kd on y-axis\n",
    "        \n",
    "#print(IC_kd2_AY_mat)\n",
    "#print(\"All ICs: \", allICs)\n",
    "#print(\"All Kd2s: \", allKd2)\n",
    "print(\"Done will all pts!\")"
   ]
  },
  {
   "cell_type": "code",
   "execution_count": 8,
   "metadata": {},
   "outputs": [
    {
     "data": {
      "image/png": "[encoded data removed]",
      "text/plain": [
       "<Figure size 432x288 with 2 Axes>"
      ]
     },
     "metadata": {
      "needs_background": "light"
     },
     "output_type": "display_data"
    }
   ],
   "source": [
    "# Plot heatmap for AY IC vs Kd2\n",
    "\n",
    "#AYmatPlt = np.flipud(kd1_kd2_AY_mat)\n",
    "AYmatPlt = IC_kd2_AY_mat\n",
    "\n",
    "fig, ax = plt.subplots()\n",
    "# im = ax.imshow(AYmatPlt)\n",
    "CS = ax.contourf(allICs, allKd2, AYmatPlt,cmap=plt.cm.gist_heat)\n",
    "cbar = fig.colorbar(CS)\n",
    "cbar.ax.set_ylabel('Assembly Yield')\n",
    "\n",
    "ax.set_xscale('log')\n",
    "ax.set_yscale('log')\n",
    "ax.set_aspect('equal')\n",
    "\n",
    "# get ticks on log scale\n",
    "ax.tick_params(axis=\"x\", direction=\"out\", length=10, width=2, color=\"black\")\n",
    "ax.tick_params(axis=\"y\", direction=\"out\", length=10, width=2, color=\"black\")\n",
    "\n",
    "locmin = matplotlib.ticker.LogLocator(base=10.0,subs=(0.2,0.4,0.6,0.8),numticks=12)\n",
    "ax.xaxis.set_minor_locator(locmin); ax.yaxis.set_minor_locator(locmin)\n",
    "ax.yaxis.set_minor_formatter(matplotlib.ticker.NullFormatter())\n",
    "\n",
    "ax.set_xlabel('IC (M)', fontsize=10)\n",
    "ax.set_ylabel('Kd2', fontsize=10)\n",
    "\n",
    "#plt.show()\n",
    "# --- save figure ---\n",
    "#plt.tight_layout()\n",
    "plt.savefig('LL_SR_heatmap_AYvsICvsKd2_n50_'+today+'.eps')"
   ]
  },
  {
   "cell_type": "code",
   "execution_count": 7,
   "metadata": {},
   "outputs": [
    {
     "name": "stdout",
     "output_type": "stream",
     "text": [
      "Running for fixed Kd2...\n",
      "Done will all pts!\n"
     ]
    }
   ],
   "source": [
    "# ---------------------------------------------------\n",
    "# --- Plot AY vs IC HEATMAP ---\n",
    "# ---------------------------------------------------\n",
    "\n",
    "# calculate the AY for increasing IC with various Kd2 values on a heatmap \n",
    "\n",
    "# --- PARAMETERS ---\n",
    "# List of fixed parameters\n",
    "kOn = 10**6\n",
    "δ = 0 # degradation rate parameter\n",
    "Q = 0 # synthesis rate parameter\n",
    "kd2 = 10**-9\n",
    "# other parameters \n",
    "tEnd = 86400 # 24hrs\n",
    "t = np.linspace(0,tEnd,2000)\n",
    "\n",
    "print(\"Running for fixed Kd2...\")\n",
    "# initializations \n",
    "nICpts=50;nKdspts=50;\n",
    "minDeg_IC=-9;maxDeg_IC=-3; # IC pts\n",
    "minDeg_kd=-9;maxDeg_kd=-3; # Kd pts\n",
    "\n",
    "# start of function here!\n",
    "mags_IC = np.linspace(minDeg_IC, maxDeg_IC,nICpts)\n",
    "allICs = 10**mags_IC\n",
    "mags_Kd = np.linspace(minDeg_kd, maxDeg_kd,nKdspts)\n",
    "allKd1 = 10**mags_Kd\n",
    "\n",
    "IC_kd1_AY_mat=np.zeros((nICpts,nKdspts))\n",
    "# loop to solve AY for each IC \n",
    "for indIC in range(0,nICpts): # for each IC \n",
    "    icVal = allICs[indIC]\n",
    "    for kd1ind in range(0,nKdspts): # for each value of kd2\n",
    "        kd1_val=allKd1[kd1ind]\n",
    "        IC_1=icVal; kd1 = kd1_val\n",
    "        states_0 = [IC_1,0.0, 0.0,0.0, 0.0,0.0, 0.0,0.0, 0.0,0.0, 0.0,0.0]\n",
    "        # Now, integrate the ODEs and put the results in \\\"solution\\\"\n",
    "        solution_1 = odeint(stackedTrimer,states_0,t,rtol = 1e-12, atol = 1e-12)\n",
    "        tVec = t; xStkTrm_tps_1 = solution_1[:,-1]\n",
    "        # calculate AY\n",
    "        Yn_1 = calcAY24hrs(IC_1,xStkTrm_tps_1)\n",
    "        # store the last AY value - since tc stops at 24hrs that's the AY at 24hrs\n",
    "        AY_valStr = Yn_1[-1]; \n",
    "        #print(\"IC= \" + str(icVal) + \" , Kd2= \" + str(kd2_val) + \" , AY= \" +  str(AY_valStr))\n",
    "        IC_kd1_AY_mat[kd1ind][indIC] = AY_valStr # IC on x-axis, Kd on y-axis\n",
    "        \n",
    "#print(IC_kd2_AY_mat)\n",
    "#print(\"All ICs: \", allICs)\n",
    "#print(\"All Kd2s: \", allKd2)\n",
    "print(\"Done will all pts!\")"
   ]
  },
  {
   "cell_type": "code",
   "execution_count": 9,
   "metadata": {},
   "outputs": [
    {
     "data": {
      "image/png": "[encoded data removed]",
      "text/plain": [
       "<Figure size 432x288 with 2 Axes>"
      ]
     },
     "metadata": {
      "needs_background": "light"
     },
     "output_type": "display_data"
    }
   ],
   "source": [
    "# Plot heatmap for AY IC vs Kd1\n",
    "\n",
    "#AYmatPlt = np.flipud(kd1_kd2_AY_mat)\n",
    "AYmatPlt = IC_kd1_AY_mat\n",
    "\n",
    "fig, ax = plt.subplots()\n",
    "# im = ax.imshow(AYmatPlt)\n",
    "CS = ax.contourf(allICs, allKd1, AYmatPlt,cmap=plt.cm.gist_heat)\n",
    "cbar = fig.colorbar(CS)\n",
    "cbar.ax.set_ylabel('Assembly Yield')\n",
    "\n",
    "ax.set_xscale('log')\n",
    "ax.set_yscale('log')\n",
    "ax.set_aspect('equal')\n",
    "\n",
    "# get ticks on log scale\n",
    "ax.tick_params(axis=\"x\", direction=\"out\", length=10, width=2, color=\"black\")\n",
    "ax.tick_params(axis=\"y\", direction=\"out\", length=10, width=2, color=\"black\")\n",
    "\n",
    "locmin = matplotlib.ticker.LogLocator(base=10.0,subs=(0.2,0.4,0.6,0.8),numticks=12)\n",
    "ax.xaxis.set_minor_locator(locmin); ax.yaxis.set_minor_locator(locmin)\n",
    "ax.yaxis.set_minor_formatter(matplotlib.ticker.NullFormatter())\n",
    "\n",
    "ax.set_xlabel('IC (M)', fontsize=10)\n",
    "ax.set_ylabel('Kd1', fontsize=10)\n",
    "\n",
    "#plt.show()\n",
    "# --- save figure ---\n",
    "#plt.tight_layout()\n",
    "plt.savefig('LL_SR_heatmap_AYvsICvsKd2_n50_'+today+'.eps')"
   ]
  },
  {
   "cell_type": "code",
   "execution_count": 10,
   "metadata": {},
   "outputs": [
    {
     "name": "stdout",
     "output_type": "stream",
     "text": [
      "Running for fixed IC...\n",
      "Done will all pts!\n"
     ]
    }
   ],
   "source": [
    "# ---------------------------------------------------\n",
    "# --- Plot AY vs Kd1 vs Kd2 HEATMAP ---\n",
    "# ---------------------------------------------------\n",
    "\n",
    "# calculate the AY for Kd1 vs Kd2 values on a heatmap \n",
    "\n",
    "# --- PARAMETERS ---\n",
    "# List of fixed parameters\n",
    "kOn = 10**6\n",
    "δ = 0 # degradation rate parameter\n",
    "Q = 0 # synthesis rate parameter\n",
    "IC_val = 10**-6\n",
    "# other parameters \n",
    "tEnd = 86400 # 24hrs\n",
    "t = np.linspace(0,tEnd,2000)\n",
    "\n",
    "print(\"Running for fixed IC...\")\n",
    "# initializations \n",
    "nKdspts=50;\n",
    "minDeg_kd1=-12;maxDeg_kd1=-3; # Kd1 pts\n",
    "minDeg_kd2=-12;maxDeg_kd2=-3; # Kd2 pts\n",
    "\n",
    "# start of function here!\n",
    "mags_Kd1 = np.linspace(minDeg_kd1, maxDeg_kd1,nKdspts)\n",
    "allKd1 = 10**mags_Kd1\n",
    "mags_Kd2 = np.linspace(minDeg_kd2, maxDeg_kd2,nKdspts)\n",
    "allKd2 = 10**mags_Kd2\n",
    "\n",
    "kd1_kd2_AY_mat=np.zeros((nKdspts,nKdspts))\n",
    "# loop to solve AY for each IC \n",
    "for kd2ind in range(0,nKdspts): # for each IC \n",
    "    kd2_val=allKd2[kd2ind]; kd2 = kd2_val;\n",
    "    for kd1ind in range(0,nKdspts): # for each value of kd2\n",
    "        kd1_val=allKd1[kd1ind]; kd1 = kd1_val\n",
    "        states_0 = [IC_val,0.0, 0.0,0.0, 0.0,0.0, 0.0,0.0, 0.0,0.0, 0.0,0.0]\n",
    "        # Now, integrate the ODEs and put the results in \\\"solution\\\"\n",
    "        solution_1 = odeint(stackedTrimer,states_0,t,rtol = 1e-12, atol = 1e-12)\n",
    "        tVec = t; xStkTrm_tps_1 = solution_1[:,-1]\n",
    "        # calculate AY\n",
    "        Yn_1 = calcAY24hrs(IC_val,xStkTrm_tps_1)\n",
    "        # store the last AY value - since tc stops at 24hrs that's the AY at 24hrs\n",
    "        AY_valStr = Yn_1[-1]; \n",
    "        #print(\"IC= \" + str(icVal) + \" , Kd2= \" + str(kd2_val) + \" , AY= \" +  str(AY_valStr))\n",
    "        kd1_kd2_AY_mat[kd1ind][kd2ind] = AY_valStr # IC on x-axis, Kd on y-axis\n",
    "        \n",
    "#print(IC_kd2_AY_mat)\n",
    "#print(\"All ICs: \", allICs)\n",
    "#print(\"All Kd2s: \", allKd2)\n",
    "print(\"Done will all pts!\")"
   ]
  },
  {
   "cell_type": "code",
   "execution_count": 11,
   "metadata": {},
   "outputs": [
    {
     "data": {
      "image/png": "[encoded data removed]",
      "text/plain": [
       "<Figure size 432x288 with 2 Axes>"
      ]
     },
     "metadata": {
      "needs_background": "light"
     },
     "output_type": "display_data"
    }
   ],
   "source": [
    "# Prep for plotting the heatmap\n",
    "\n",
    "#import matplotlib.cm as cm\n",
    "#from matplotlib.ticker import FormatStrFormatter\n",
    "#import matplotlib\n",
    "# from matplotlib.ticker import LogLocator\n",
    "\n",
    "\n",
    "#AYmatPlt = np.flipud(kd1_kd2_AY_mat)\n",
    "AYmatPlt = kd1_kd2_AY_mat\n",
    "\n",
    "fig, ax = plt.subplots()\n",
    "# im = ax.imshow(AYmatPlt)\n",
    "CS = ax.contourf(allKd2, allKd1, AYmatPlt,cmap=plt.cm.gist_heat)\n",
    "cbar = fig.colorbar(CS)\n",
    "cbar.ax.set_ylabel('Assembly Yield')\n",
    "\n",
    "ax.set_xscale('log')\n",
    "ax.set_yscale('log')\n",
    "ax.set_aspect('equal')\n",
    "\n",
    "# get ticks on log scale\n",
    "ax.tick_params(axis=\"x\", direction=\"out\", length=10, width=2, color=\"black\")\n",
    "ax.tick_params(axis=\"y\", direction=\"out\", length=10, width=2, color=\"black\")\n",
    "\n",
    "locmin = matplotlib.ticker.LogLocator(base=10.0,subs=(0.2,0.4,0.6,0.8),numticks=12)\n",
    "ax.xaxis.set_minor_locator(locmin); ax.yaxis.set_minor_locator(locmin)\n",
    "ax.yaxis.set_minor_formatter(matplotlib.ticker.NullFormatter())\n",
    "\n",
    "ax.set_xlabel('Kd2', fontsize=10)\n",
    "ax.set_ylabel('Kd1', fontsize=10)\n",
    "\n",
    "# plt.show()\n",
    "# save figure\n",
    "plt.tight_layout()\n",
    "plt.savefig('LL_SR_heatmap_AYvsKd1vsKd2_n50_contour_'+today+'.eps')"
   ]
  },
  {
   "cell_type": "code",
   "execution_count": null,
   "metadata": {},
   "outputs": [],
   "source": []
  },
  {
   "cell_type": "code",
   "execution_count": null,
   "metadata": {},
   "outputs": [],
   "source": []
  },
  {
   "cell_type": "code",
   "execution_count": null,
   "metadata": {},
   "outputs": [],
   "source": []
  },
  {
   "cell_type": "code",
   "execution_count": null,
   "metadata": {},
   "outputs": [],
   "source": []
  }
 ],
 "metadata": {
  "kernelspec": {
   "display_name": "Python 3 (ipykernel)",
   "language": "python",
   "name": "python3"
  },
  "language_info": {
   "codemirror_mode": {
    "name": "ipython",
    "version": 3
   },
   "file_extension": ".py",
   "mimetype": "text/x-python",
   "name": "python",
   "nbconvert_exporter": "python",
   "pygments_lexer": "ipython3",
   "version": "3.9.7"
  }
 },
 "nbformat": 4,
 "nbformat_minor": 4
}
