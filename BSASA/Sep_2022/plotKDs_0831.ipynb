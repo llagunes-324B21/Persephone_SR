{
 "cells": [
  {
   "cell_type": "code",
   "execution_count": null,
   "id": "7a8ad284",
   "metadata": {},
   "outputs": [],
   "source": [
    "# In this script I just want to plot the KD1 vs KD2 I got from the BSASA calculations\n",
    "# Name: Leo Lagunes \n",
    "# Date: 08/31/22 \n",
    "\n",
    "# Last update: 08/31/22 \n",
    "\n",
    "# IMPORTANT NOTE: I am taking in a .csv file and plotting the data on a single scatter plot\n",
    "\n",
    "# This is python code"
   ]
  },
  {
   "cell_type": "code",
   "execution_count": 1,
   "id": "0ee5a329",
   "metadata": {},
   "outputs": [
    {
     "name": "stdout",
     "output_type": "stream",
     "text": [
      "All packages loaded on  09/05/2022 16:48:58\n"
     ]
    }
   ],
   "source": [
    "# ---------------------------------------------------\n",
    "# --- packages to use ---\n",
    "# ---------------------------------------------------\n",
    "\n",
    "# --- packages needed ---\n",
    "import sys\n",
    "import numpy as np\n",
    "import pandas as pd \n",
    "from datetime import date, datetime # to print date\n",
    "import matplotlib.pyplot as plt\n",
    "import matplotlib \n",
    "# from Helpers.General import *\n",
    "\n",
    "now = datetime.now(); dt_string = now.strftime(\"%m/%d/%Y %H:%M:%S\")\n",
    "today_pre = date.today()\n",
    "today = today_pre.strftime(\"%m_%d_%y\")\n",
    "\n",
    "print('All packages loaded on ', dt_string)"
   ]
  },
  {
   "cell_type": "code",
   "execution_count": null,
   "id": "95145c3b",
   "metadata": {},
   "outputs": [],
   "source": [
    "# ---------------------------------------------------\n",
    "# --- LIST OF FUNCTIONS ---\n",
    "# ---------------------------------------------------\n",
    "\n",
    "# All functions necessary are in this cell\n",
    "\n",
    "# --- FUNCTION TO READ IN DATA AND CONVERT TO PLOT-READY --- \n",
    "\n",
    "# --- Function to read in data and prep for plotting ---"
   ]
  },
  {
   "cell_type": "code",
   "execution_count": 2,
   "id": "ea0e446d",
   "metadata": {},
   "outputs": [
    {
     "name": "stdout",
     "output_type": "stream",
     "text": [
      "  PDB_IDs          Kd1          Kd2\n",
      "0    4lkb  2649.554036   386.316243\n",
      "1    2wym  1071.143555  6672.308594\n",
      "2    7fjl  1083.085286  1892.606120\n",
      "3    1li1  4880.503581    66.783854\n",
      "4    5lq3  7281.084635    96.360677\n"
     ]
    },
    {
     "data": {
      "image/png": "[encoded data removed]",
      "text/plain": [
       "<Figure size 432x288 with 1 Axes>"
      ]
     },
     "metadata": {
      "needs_background": "light"
     },
     "output_type": "display_data"
    }
   ],
   "source": [
    "# --- Load in data --- \n",
    "data = pd.read_csv('PDB_KDcalcs_082022.csv')\n",
    "#data.head() \n",
    "data.to_numpy()\n",
    "print(data)\n",
    "# --- get arrays ready for plotting --- \n",
    "kd1Plt = data.Kd1; kd2Plt = data.Kd2\n",
    "#print(kd1Plt)\n",
    "# --- plot --- \n",
    "fig = plt.figure()\n",
    "ax = fig.add_subplot(111)\n",
    "\n",
    "plt.plot(kd1Plt,kd2Plt,'*', color = 'red',linewidth=2)\n",
    "\n",
    "\n",
    "x1,x2,y1,y2 = plt.axis(); #plt.axis((x1,x2,0,1))\n",
    "\n",
    "plt.title('BSASA from PDBs') #\n",
    "ax.set_xlabel('$K_{d,1}$ (M)', fontsize=10)\n",
    "ax.set_ylabel('$K_{d,2}$ (M)', fontsize=10)\n",
    "\n",
    "ax.set_aspect(1./ax.get_data_ratio())\n",
    "plt.savefig('LL_BSASA_trail_001_5PDBs'+today+'.eps')"
   ]
  },
  {
   "cell_type": "code",
   "execution_count": 7,
   "id": "f7a40744",
   "metadata": {},
   "outputs": [
    {
     "data": {
      "image/png": "[encoded data removed]",
      "text/plain": [
       "<Figure size 432x288 with 1 Axes>"
      ]
     },
     "metadata": {
      "needs_background": "light"
     },
     "output_type": "display_data"
    }
   ],
   "source": [
    "# --- Load in data --- \n",
    "data = pd.read_csv('PDB_KDcalcs_082022.csv')\n",
    "#data.head() \n",
    "data.to_numpy()\n",
    "# print(data)\n",
    "# --- get arrays ready for plotting --- \n",
    "kd1Plt = data.Kd1; kd2Plt = data.Kd2\n",
    "# --- divide by a factor of 2 --- \n",
    "kd1Plt=np.divide(kd1Plt, 2);kd2Plt=np.divide(kd2Plt, 2)\n",
    "#print(kd1Plt)\n",
    "# --- plot --- \n",
    "fig = plt.figure()\n",
    "ax = fig.add_subplot(111)\n",
    "\n",
    "plt.plot(kd1Plt,kd2Plt,'*', color = 'red',linewidth=2)\n",
    "\n",
    "\n",
    "x1,x2,y1,y2 = plt.axis(); #plt.axis((x1,x2,0,1))\n",
    "\n",
    "plt.title('BSASA from PDBs') #\n",
    "ax.set_xlabel('$K_{d,1}$ (M)', fontsize=10)\n",
    "ax.set_ylabel('$K_{d,2}$ (M)', fontsize=10)\n",
    "\n",
    "ax.set_aspect(1./ax.get_data_ratio())\n",
    "plt.savefig('LL_BSASA_trail_001_5PDBs'+today+'.eps')\n"
   ]
  },
  {
   "cell_type": "code",
   "execution_count": null,
   "id": "1c22eaee",
   "metadata": {},
   "outputs": [],
   "source": []
  }
 ],
 "metadata": {
  "kernelspec": {
   "display_name": "Python 3 (ipykernel)",
   "language": "python",
   "name": "python3"
  },
  "language_info": {
   "codemirror_mode": {
    "name": "ipython",
    "version": 3
   },
   "file_extension": ".py",
   "mimetype": "text/x-python",
   "name": "python",
   "nbconvert_exporter": "python",
   "pygments_lexer": "ipython3",
   "version": "3.9.7"
  }
 },
 "nbformat": 4,
 "nbformat_minor": 5
}
