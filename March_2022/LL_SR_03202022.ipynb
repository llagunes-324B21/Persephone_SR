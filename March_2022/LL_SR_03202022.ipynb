{
 "cells": [
  {
   "cell_type": "code",
   "execution_count": null,
   "metadata": {},
   "outputs": [],
   "source": [
    "# In this script we want to solve the system of odes for assembling two 3-membered rings  \n",
    "# with synthesis and degradation NOT included \n",
    "# Name: Leo Lagunes and Paige M.\n",
    "# Date: 07/14/21 \n",
    "\n",
    "# Last update: 03/08/22\n",
    "\n",
    "# IMPORTANT NOTE: The equations were written and developed by Drs. Eric Deeds and Koan Briggs, this code was developed by LL + PM\n",
    "\n",
    "# Running in python because Julia hasn't really been working just yet\n"
   ]
  },
  {
   "cell_type": "code",
   "execution_count": 15,
   "metadata": {},
   "outputs": [],
   "source": [
    "# ---------------------------------------------------\n",
    "# --- packages to use ---\n",
    "# ---------------------------------------------------\n",
    "\n",
    "# First we need to import all of the packages we will be using!\\n\",\n",
    "import numpy as np\n",
    "from scipy.integrate import odeint\n",
    "import matplotlib.pyplot as plt"
   ]
  },
  {
   "cell_type": "code",
   "execution_count": 35,
   "metadata": {},
   "outputs": [],
   "source": [
    "# ---------------------------------------------------\n",
    "# --- example form EJD ---\n",
    "# ---------------------------------------------------\n",
    "\n",
    "# First model: no synthesis and degradation\n",
    "# This is the definition of our system of ODEs for the model\n",
    "def first_model(states,t): \n",
    "    # Our \\\"states\\\" list has the state variables in the following order:\",\n",
    "    # S, KS, Sstar, PSstar, K, P\\n\",\n",
    "    S = states[0]\n",
    "    KS = states[1]\n",
    "    Sstar = states[2]\n",
    "    PSstar = states[3]\n",
    "    P = states[5]\n",
    "    K = states[4]\n",
    "    # The above just makes it easier to relate our ODEs to the ones in the Homework text\n",
    "    S_prime = -k_plus*S*K + k_minus*KS + k_cat*PSstar\n",
    "    KS_prime = k_plus*S*K - k_minus*KS - k_cat*KS\n",
    "    Sstar_prime = -k_plus*Sstar*P + k_minus*PSstar + k_cat*KS\n",
    "    PSstar_prime = k_plus*Sstar*P - k_minus*PSstar - k_cat*PSstar\n",
    "    K_prime = -k_plus*S*K + k_minus*KS + k_cat*KS\n",
    "    P_prime = -k_plus*Sstar*P + k_minus*PSstar + k_cat*PSstar\n",
    "    states_prime = [S_prime,KS_prime,Sstar_prime,PSstar_prime,K_prime,P_prime]\n",
    "    \n",
    "    return states_prime\n",
    "\n",
    "def michMenten(states, t):\n",
    "    # the MM model as a second example\n",
    "    # Our \\\"states\\\" list has the state variables in the following order:\",\n",
    "    # S, E, ES, P, kon, koff, kcat \n",
    "    S = states[0]\n",
    "    E = states[1]\n",
    "    ES = states[2]\n",
    "    P = states[3]\n",
    "    \n",
    "    #kOn = states[4]\n",
    "    #kOff = states[5]\n",
    "    #kCat = states[6]\n",
    "    # list of odes\n",
    "    S_prime = -kOn*E*S + kOff*ES\n",
    "    E_prime = -kOn*E*S + (kOff+kCat)*ES\n",
    "    ES_prime = kOn*E*S - (kOff + kCat)*ES\n",
    "    P_prime = kCat*ES\n",
    "    \n",
    "    states_prime = [S_prime, E_prime, ES_prime, P_prime]\n",
    "    \n",
    "    return states_prime\n",
    "    "
   ]
  },
  {
   "cell_type": "code",
   "execution_count": 32,
   "metadata": {},
   "outputs": [
    {
     "data": {
      "image/png": "[encoded data removed]",
      "text/plain": [
       "<Figure size 432x288 with 1 Axes>"
      ]
     },
     "metadata": {
      "needs_background": "light"
     },
     "output_type": "display_data"
    }
   ],
   "source": [
    "# ---------------------------------------------------\n",
    "# --- example form EJD ---\n",
    "# ---------------------------------------------------\n",
    "\n",
    "# PARAMETERS\\n\",\n",
    "# This is where we will define the parameters that we won't change for our model\\n\",\n",
    "k_cat = 1\n",
    "k_minus = 0.1\n",
    "k_plus = .1\n",
    "\n",
    "S_0 = .001\n",
    "KS_0 = 0.1\n",
    "Sstar_0 = 0.1\n",
    "PSstar_0 = 0.1\n",
    "P_0 = 0.001\n",
    "K_0 = 0.002\n",
    "\n",
    "states_0 = [S_0,KS_0,Sstar_0,PSstar_0,K_0,P_0]\n",
    "\n",
    "# To intgrate ODEs, we need a \\\"t\\\" vector for time\n",
    "# Note that the units on \\\"t\\\" are in seconds\n",
    "# We choose a very long maximum time (20,000,000 seconds!) to insure we reach steady-state\n",
    "t = np.linspace(0,20000000,2000)\n",
    "# Now, integrate the ODEs and put the results in \\\"solution\\\"\n",
    "solution = odeint(first_model,states_0,t)\n",
    "    \n",
    "plt.plot(t,solution[:,2],'b-',linewidth=2)\n",
    "plt.xlabel('time')\n",
    "plt.ylabel('S*')\n",
    "plt.show()  \n",
    "    \n",
    "    \n",
    "    \n",
    "    \n",
    "    "
   ]
  },
  {
   "cell_type": "code",
   "execution_count": 42,
   "metadata": {},
   "outputs": [
    {
     "data": {
      "image/png": "[encoded data removed]",
      "text/plain": [
       "<Figure size 432x288 with 1 Axes>"
      ]
     },
     "metadata": {
      "needs_background": "light"
     },
     "output_type": "display_data"
    }
   ],
   "source": [
    "# ---------------------------------------------------\n",
    "# --- Michaelis-Menten example ---\n",
    "# ---------------------------------------------------\n",
    "\n",
    "# PARAMETER VALUES\n",
    "kOn = 0.1\n",
    "kOff = 0.1\n",
    "kCat = 0.1\n",
    "S_0 = 1.0\n",
    "E_0 = 1.0\n",
    "ES_0 = 0.0 \n",
    "P_0 = 0.0\n",
    "\n",
    "states_1 = [S_0,E_0, ES_0,P_0 ]\n",
    "\n",
    "# --- Solve ODE's with fixed parameters ---\n",
    "t = np.linspace(0,100,2000)\n",
    "solution = odeint(michMenten,states_1,t)\n",
    "\n",
    "plt.plot(t,solution,'-',linewidth=2)\n",
    "plt.xlabel('Time')\n",
    "plt.ylabel('Species concentration')\n",
    "plt.show()\n"
   ]
  },
  {
   "cell_type": "code",
   "execution_count": null,
   "metadata": {},
   "outputs": [],
   "source": [
    "# ---------------------------------------------------\n",
    "# --- Stacked rings ---\n",
    "# ---------------------------------------------------\n",
    "\n",
    "# Now that I know the examples work, lets try the stacked rings code \n"
   ]
  }
 ],
 "metadata": {
  "kernelspec": {
   "display_name": "Python 3",
   "language": "python",
   "name": "python3"
  },
  "language_info": {
   "codemirror_mode": {
    "name": "ipython",
    "version": 3
   },
   "file_extension": ".py",
   "mimetype": "text/x-python",
   "name": "python",
   "nbconvert_exporter": "python",
   "pygments_lexer": "ipython3",
   "version": "3.8.5"
  }
 },
 "nbformat": 4,
 "nbformat_minor": 4
}
